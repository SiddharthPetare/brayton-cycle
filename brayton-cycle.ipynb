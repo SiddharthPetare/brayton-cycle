{
 "cells": [
  {
   "cell_type": "markdown",
   "metadata": {},
   "source": [
    "# Brayton Cycle"
   ]
  },
  {
   "cell_type": "code",
   "execution_count": 354,
   "metadata": {},
   "outputs": [],
   "source": [
    "import eosHSG as eos\n",
    "import scipy, scipy.optimize, scipy.interpolate\n",
    "import numpy as np\n",
    "import pandas as pd\n",
    "import matplotlib.pyplot as plt"
   ]
  },
  {
   "cell_type": "code",
   "execution_count": 355,
   "metadata": {},
   "outputs": [],
   "source": [
    "nitrogen = eos.getCompound('Nitrogen', 'pr')\n",
    "oxygen = eos.getCompound('Oxygen', 'pr')\n",
    "methane = eos.getCompound('Methane', 'pr')\n",
    "carbondioxide = eos.getCompound(('Carbon dioxide'), 'pr')\n",
    "water = eos.getCompound('Water', 'pr')\n",
    "\n",
    "dict_comps = {'n2':nitrogen, 'o2':oxygen,\n",
    "             'ch4':methane, 'co2':carbondioxide,\n",
    "             'h2o':water}"
   ]
  },
  {
   "cell_type": "code",
   "execution_count": 356,
   "metadata": {},
   "outputs": [],
   "source": [
    "class Mixture:\n",
    "    def __init__(self):\n",
    "        self.dict_flows = {}\n",
    "        self.T = 300.0\n",
    "        self.P = 1.013e5\n",
    "    \n",
    "    def setProps(self):\n",
    "        \n",
    "        F = sum([self.dict_flows[comp] for comp in self.dict_flows])\n",
    "        Hmix = 0.0\n",
    "        Smix = 0.0\n",
    "        \n",
    "        for name in dict_comps:\n",
    "            comp = dict_comps[name]\n",
    "            Fcomp = self.dict_flows[name]\n",
    "            x = Fcomp/F\n",
    "            \n",
    "            if x > 0.0:\n",
    "                Z = comp.Z(self.T, self.P*x)[-1]\n",
    "                h = comp.H(self.T, self.P*x, Z)\n",
    "                s = comp.S(self.T, self.P*x, Z)\n",
    "                \n",
    "                Hmix += Fcomp*h\n",
    "                Smix += Fcomp*s\n",
    "                \n",
    "        self.H = Hmix\n",
    "        self.S = Smix\n",
    "        \n",
    "    def copy(self, mix):\n",
    "        self.T = mix.T + 0.0\n",
    "        self.P = mix.P + 0.0\n",
    "        for name in mix.dict_flows:\n",
    "            self.dict_flows[name] = mix.dict_flows[name] + 0.0\n",
    "        self.setProps()"
   ]
  },
  {
   "cell_type": "code",
   "execution_count": 357,
   "metadata": {},
   "outputs": [],
   "source": [
    "Fair = 1.0 #kmol/s\n",
    "Tamb = 300 #K\n",
    "Pamb = 1.013e5 #Pa\n",
    "Pcomp = 10e5 #Pa\n",
    "efficiency = 0.6\n",
    "frexcessair = 1.2\n",
    "\n",
    "air = Mixture()\n",
    "air.T = Tamb\n",
    "air.P = Pamb\n",
    "air.dict_flows = {   'n2': 0.79*Fair,\n",
    "                     'o2': 0.21*Fair,\n",
    "                     'ch4': 0.0,\n",
    "                     'co2': 0.0,\n",
    "                     'h2o': 0.0\n",
    "                 }\n",
    "air.setProps()"
   ]
  },
  {
   "cell_type": "code",
   "execution_count": 358,
   "metadata": {},
   "outputs": [],
   "source": [
    "def residualS(T, Starget, mixture):\n",
    "    mixture.T = T\n",
    "    mixture.setProps()\n",
    "    return Starget - mixture.S\n",
    "\n",
    "def isentropic(mixture, Pfinal):\n",
    "    compmix = Mixture()\n",
    "    compmix.copy(mixture)\n",
    "    compmix.P = Pfinal\n",
    "    Starget = mixture.S\n",
    "    T = scipy.optimize.newton(residualS, mixture.T + 0.0, args = (Starget, compmix))\n",
    "    compmix.T = T\n",
    "    compmix.setProps()\n",
    "    return compmix\n",
    "\n",
    "def residualH(T, Htarget, mixture):\n",
    "    mixture.T = T\n",
    "    mixture.setProps()\n",
    "    return Htarget - mixture.H\n",
    "\n",
    "def heat(mixture, Htarget):\n",
    "    hotmix = Mixture()\n",
    "    hotmix.copy(mixture)\n",
    "    T = scipy.optimize.newton(residualH, mixture.T + 0.0, args = (Htarget, hotmix))\n",
    "    hotmix.T = T\n",
    "    \n",
    "    hotmix.setProps()\n",
    "    return hotmix\n",
    "\n",
    "def cool(mixture, Tfinal):\n",
    "    coolmix = Mixture()\n",
    "    coolmix.copy(mixture)\n",
    "    coolmix.T = Tfinal\n",
    "    coolmix.setProps()\n",
    "    return coolmix"
   ]
  },
  {
   "cell_type": "code",
   "execution_count": 359,
   "metadata": {},
   "outputs": [],
   "source": [
    "compair = isentropic(air, Pcomp)\n",
    "IdealWork = compair.H - air.H\n",
    "ActualWork = IdealWork/efficiency\n",
    "Hdissipated = ActualWork - IdealWork\n",
    "compair = heat(compair, compair.H + Hdissipated)\n",
    "\n",
    "fuel = Mixture()\n",
    "fuel.T = Tamb\n",
    "fuel.P = Pcomp\n",
    "fuel.dict_flows = {\n",
    "                    'n2': 0.0,\n",
    "                    'o2': 0.0,\n",
    "                    'ch4': 0.21*Fair/((1+frexcessair)*2),\n",
    "                    'co2': 0.0,\n",
    "                    'h2o': 0.0\n",
    "                }\n",
    "fuel.setProps()"
   ]
  },
  {
   "cell_type": "code",
   "execution_count": 361,
   "metadata": {},
   "outputs": [],
   "source": [
    "def mix(stream1, stream2):\n",
    "    newstream = Mixture()\n",
    "    for name in stream1.dict_flows:\n",
    "        newstream.dict_flows[name] = stream1.dict_flows[name] + stream2.dict_flows[name]\n",
    "        \n",
    "    newstream.H = stream1.H + stream2.H\n",
    "    newstream.P = min([stream1.P, stream2.P])\n",
    "    newstream = heat(newstream, newstream.H)\n",
    "    return newstream\n",
    "\n",
    "famix = mix(compair, fuel)"
   ]
  },
  {
   "cell_type": "code",
   "execution_count": 362,
   "metadata": {},
   "outputs": [],
   "source": [
    "def combust(mixture):\n",
    "    combmix = Mixture()\n",
    "    Hcomb = mixture.H\n",
    "    Scomb = mixture.S\n",
    "    combmix.copy(mixture)\n",
    "    combmix.dict_flows['ch4'] = mixture.dict_flows['ch4']*0.0\n",
    "    combmix.dict_flows['co2'] = mixture.dict_flows['co2'] + mixture.dict_flows['ch4']\n",
    "    combmix.dict_flows['o2'] = mixture.dict_flows['o2'] - 2*mixture.dict_flows['ch4']\n",
    "    combmix.dict_flows['h2o'] = mixture.dict_flows['h2o'] + 2*mixture.dict_flows['ch4']\n",
    "    \n",
    "    combmix = heat(combmix, Hcomb)\n",
    "    return combmix\n",
    "\n",
    "combustion = combust(famix)"
   ]
  },
  {
   "cell_type": "code",
   "execution_count": 364,
   "metadata": {},
   "outputs": [],
   "source": [
    "Ffuel = fuel.dict_flows['ch4']\n",
    "Fn2 = 0.79*Fair\n",
    "Fo2 = 0.21*Fair - 2*Ffuel\n",
    "Fch4 = 0.0\n",
    "Fco2 = Ffuel\n",
    "Fh2o = 2*Ffuel\n",
    "\n",
    "Ftotal = Fn2+Fo2+Fch4+Fco2+Fh2o\n",
    "x_n2 = Fn2/Ftotal\n",
    "x_o2 = Fo2/Ftotal\n",
    "x_ch4 = Fch4/Ftotal\n",
    "x_co2 = Fco2/Ftotal\n",
    "x_h2o = Fh2o/Ftotal\n",
    "\n",
    "df1 = pd.DataFrame({\"Components\":[\"N2\",\"O2\",\"CH4\",\"CO2\",\"H2O\"],\n",
    "                    \"Mole Fraction in Exhaust Gas\": [x_n2,x_o2,x_ch4,x_co2,x_h2o]})"
   ]
  },
  {
   "cell_type": "code",
   "execution_count": 365,
   "metadata": {},
   "outputs": [],
   "source": [
    "gases = Mixture()\n",
    "gases.T = combustion.T\n",
    "gases.P = combustion.P\n",
    "gases.dict_flows = {'n2':Fn2,'o2':Fo2,'ch4':Fch4,'co2':Fco2,'h2o':Fh2o}\n",
    "gases.setProps()\n",
    "\n",
    "exhaustgas = isentropic(gases, Pamb)\n",
    "Ideal_Work = gases.H - exhaustgas.H\n",
    "Actual_Work = Ideal_Work*efficiency\n",
    "Hreleased = Ideal_Work - Actual_Work\n",
    "exhaustgas = heat(exhaustgas, exhaustgas.H + Hreleased)\n",
    "cooledgases = cool(gases, compair.T)"
   ]
  },
  {
   "cell_type": "code",
   "execution_count": 367,
   "metadata": {},
   "outputs": [
    {
     "data": {
      "text/html": [
       "<div>\n",
       "<style scoped>\n",
       "    .dataframe tbody tr th:only-of-type {\n",
       "        vertical-align: middle;\n",
       "    }\n",
       "\n",
       "    .dataframe tbody tr th {\n",
       "        vertical-align: top;\n",
       "    }\n",
       "\n",
       "    .dataframe thead th {\n",
       "        text-align: right;\n",
       "    }\n",
       "</style>\n",
       "<table border=\"1\" class=\"dataframe\">\n",
       "  <thead>\n",
       "    <tr style=\"text-align: right;\">\n",
       "      <th></th>\n",
       "      <th>Temperature</th>\n",
       "      <th>Pressure</th>\n",
       "      <th>Enthalpy</th>\n",
       "      <th>Entropy</th>\n",
       "    </tr>\n",
       "  </thead>\n",
       "  <tbody>\n",
       "    <tr>\n",
       "      <th>Air</th>\n",
       "      <td>300.000000</td>\n",
       "      <td>101300.0</td>\n",
       "      <td>4.874745e+04</td>\n",
       "      <td>4331.322307</td>\n",
       "    </tr>\n",
       "    <tr>\n",
       "      <th>Compressed Air</th>\n",
       "      <td>744.255394</td>\n",
       "      <td>1000000.0</td>\n",
       "      <td>1.344766e+07</td>\n",
       "      <td>12520.150199</td>\n",
       "    </tr>\n",
       "    <tr>\n",
       "      <th>Fuel</th>\n",
       "      <td>300.000000</td>\n",
       "      <td>1000000.0</td>\n",
       "      <td>-3.562096e+06</td>\n",
       "      <td>-4769.933375</td>\n",
       "    </tr>\n",
       "    <tr>\n",
       "      <th>Mixture</th>\n",
       "      <td>714.421288</td>\n",
       "      <td>1000000.0</td>\n",
       "      <td>9.885568e+06</td>\n",
       "      <td>9974.264770</td>\n",
       "    </tr>\n",
       "    <tr>\n",
       "      <th>Combustion</th>\n",
       "      <td>1733.461053</td>\n",
       "      <td>1000000.0</td>\n",
       "      <td>9.885568e+06</td>\n",
       "      <td>44054.623983</td>\n",
       "    </tr>\n",
       "    <tr>\n",
       "      <th>Exhaust Gas</th>\n",
       "      <td>1318.308394</td>\n",
       "      <td>101300.0</td>\n",
       "      <td>-6.347416e+06</td>\n",
       "      <td>53313.240220</td>\n",
       "    </tr>\n",
       "  </tbody>\n",
       "</table>\n",
       "</div>"
      ],
      "text/plain": [
       "                Temperature   Pressure      Enthalpy       Entropy\n",
       "Air              300.000000   101300.0  4.874745e+04   4331.322307\n",
       "Compressed Air   744.255394  1000000.0  1.344766e+07  12520.150199\n",
       "Fuel             300.000000  1000000.0 -3.562096e+06  -4769.933375\n",
       "Mixture          714.421288  1000000.0  9.885568e+06   9974.264770\n",
       "Combustion      1733.461053  1000000.0  9.885568e+06  44054.623983\n",
       "Exhaust Gas     1318.308394   101300.0 -6.347416e+06  53313.240220"
      ]
     },
     "execution_count": 367,
     "metadata": {},
     "output_type": "execute_result"
    }
   ],
   "source": [
    "df = pd.DataFrame({ \"Temperature\":[air.T, compair.T, fuel.T, famix.T, combustion.T, exhaustgas.T],\n",
    "                    \"Pressure\":[air.P, compair.P, fuel.P, famix.P, combustion.P, exhaustgas.P],\n",
    "                    \"Enthalpy\":[air.H, compair.H, fuel.H, famix.H, combustion.H, exhaustgas.H],\n",
    "                    \"Entropy\":[air.S, compair.S, fuel.S, famix.S, combustion.S, exhaustgas.S]},\n",
    "                 index = [\"Air\",\"Compressed Air\", \"Fuel\", \"Mixture\", \"Combustion\", \"Exhaust Gas\"])\n",
    "df"
   ]
  },
  {
   "cell_type": "code",
   "execution_count": 368,
   "metadata": {},
   "outputs": [],
   "source": [
    "Qin = gases.H - cooledgases.H\n",
    "OverallEfficiency = ((Actual_Work-ActualWork)/Qin)*100\n",
    "OverallEfficiency1 = (1-(compair.T/exhaustgas.T))*100"
   ]
  },
  {
   "cell_type": "code",
   "execution_count": 370,
   "metadata": {},
   "outputs": [],
   "source": [
    "df2 = pd.DataFrame({ \"Temperature\":[air.T, compair.T, combustion.T, exhaustgas.T],\n",
    "                    \"Pressure\":[air.P, compair.P, combustion.P, exhaustgas.P],\n",
    "                    \"Enthalpy\":[air.H, compair.H, combustion.H, exhaustgas.H],\n",
    "                    \"Entropy\":[air.S, compair.S, combustion.S, exhaustgas.S]},\n",
    "                 index = [\"Inlet Air\",\"Stage 1: Compressed Air\", \"Stage 2: Combusted Fuel\", \"Stage 3: Exhaust Gas\"])"
   ]
  },
  {
   "cell_type": "code",
   "execution_count": 371,
   "metadata": {},
   "outputs": [
    {
     "data": {
      "text/html": [
       "<div>\n",
       "<style scoped>\n",
       "    .dataframe tbody tr th:only-of-type {\n",
       "        vertical-align: middle;\n",
       "    }\n",
       "\n",
       "    .dataframe tbody tr th {\n",
       "        vertical-align: top;\n",
       "    }\n",
       "\n",
       "    .dataframe thead th {\n",
       "        text-align: right;\n",
       "    }\n",
       "</style>\n",
       "<table border=\"1\" class=\"dataframe\">\n",
       "  <thead>\n",
       "    <tr style=\"text-align: right;\">\n",
       "      <th></th>\n",
       "      <th>Components</th>\n",
       "      <th>Mole Fraction in Exhaust Gas</th>\n",
       "    </tr>\n",
       "  </thead>\n",
       "  <tbody>\n",
       "    <tr>\n",
       "      <th>0</th>\n",
       "      <td>N2</td>\n",
       "      <td>0.754013</td>\n",
       "    </tr>\n",
       "    <tr>\n",
       "      <th>1</th>\n",
       "      <td>O2</td>\n",
       "      <td>0.109328</td>\n",
       "    </tr>\n",
       "    <tr>\n",
       "      <th>2</th>\n",
       "      <td>CH4</td>\n",
       "      <td>0.000000</td>\n",
       "    </tr>\n",
       "    <tr>\n",
       "      <th>3</th>\n",
       "      <td>CO2</td>\n",
       "      <td>0.045553</td>\n",
       "    </tr>\n",
       "    <tr>\n",
       "      <th>4</th>\n",
       "      <td>H2O</td>\n",
       "      <td>0.091106</td>\n",
       "    </tr>\n",
       "  </tbody>\n",
       "</table>\n",
       "</div>"
      ],
      "text/plain": [
       "  Components  Mole Fraction in Exhaust Gas\n",
       "0         N2                      0.754013\n",
       "1         O2                      0.109328\n",
       "2        CH4                      0.000000\n",
       "3        CO2                      0.045553\n",
       "4        H2O                      0.091106"
      ]
     },
     "execution_count": 371,
     "metadata": {},
     "output_type": "execute_result"
    }
   ],
   "source": [
    "df1"
   ]
  },
  {
   "cell_type": "code",
   "execution_count": 372,
   "metadata": {},
   "outputs": [
    {
     "data": {
      "image/png": "[encoded data removed]",
      "text/plain": [
       "<Figure size 432x288 with 1 Axes>"
      ]
     },
     "metadata": {
      "needs_background": "light"
     },
     "output_type": "display_data"
    },
    {
     "name": "stdout",
     "output_type": "stream",
     "text": [
      "Overall Efficiency of the Brayton Cycle is 7.625 %\n"
     ]
    }
   ],
   "source": [
    "plt.plot(df2[\"Entropy\"],df2[\"Temperature\"])\n",
    "plt.title('T-S Diagram for Brayton Cycle')\n",
    "plt.xlabel('Entropy (J/kg-K)')\n",
    "plt.ylabel('Temperature (K)')\n",
    "plt.show()\n",
    "print(\"Overall Efficiency of the Brayton Cycle is %.3f\" %(OverallEfficiency), \"%\")"
   ]
  }
 ],
 "metadata": {
  "kernelspec": {
   "display_name": "Python 3",
   "language": "python",
   "name": "python3"
  },
  "language_info": {
   "codemirror_mode": {
    "name": "ipython",
    "version": 3
   },
   "file_extension": ".py",
   "mimetype": "text/x-python",
   "name": "python",
   "nbconvert_exporter": "python",
   "pygments_lexer": "ipython3",
   "version": "3.8.5"
  }
 },
 "nbformat": 4,
 "nbformat_minor": 4
}
